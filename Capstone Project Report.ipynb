{
    "cells": [
        {
            "cell_type": "markdown",
            "metadata": {
                "collapsed": true
            },
            "source": "# Capstone Project - The Battle of Neighborhoods"
        },
        {
            "cell_type": "markdown",
            "metadata": {},
            "source": "## 1. Introduction\n\n*Clearly define a problem or an idea of your choice, where you would need to leverage the Foursquare location data to solve or execute. Remember that data science problems always target an audience and are meant to help a group of stakeholders solve a problem, so make sure that you explicitly describe your audience and why they would care about your problem*"
        },
        {
            "cell_type": "markdown",
            "metadata": {},
            "source": "The aim of this analysis is to find the perfect spot to open a restaurant in Turin, a city in northern Italy.\n\nTurin is the Chief Town of Piemonte Region, and the former Capital City of Italy. It is very important both for industrial context and for tourism. \n\nTherefore, the audience of this study are stakeholders interested in opening a new restaurant in Turin."
        },
        {
            "cell_type": "markdown",
            "metadata": {},
            "source": "## 2. Data Section\n\n*Describe the data that you will be using to solve the problem or execute your idea. Remember that you will need to use the Foursquare location data to solve the problem or execute your idea. You can absolutely use other datasets in combination with the Foursquare location data. So make sure that you provide adequate explanation and discussion, with examples, of the data that you will be using, even if it is only Foursquare location data*"
        },
        {
            "cell_type": "markdown",
            "metadata": {},
            "source": "Data on Boroughs (called \"Municipalities\"), Neighbourhoods and their coordinates is needed. \n\nA list of Turin's Boroughs and Neighbourhoods can be find at the following link: https://it.wikipedia.org/wiki/Circoscrizioni_di_Torino\n\nOn the contrary, coordinates of every neighborhood can be collected from the following site: https://www.gps-coordinates.net/\n\nThese pieces of information have been gathered together and put in a table.\n"
        },
        {
            "cell_type": "markdown",
            "metadata": {},
            "source": "## 3. Methodology"
        },
        {
            "cell_type": "markdown",
            "metadata": {},
            "source": "The total number of neighborhoods in Turin are 35.\n\nSo, we need to find a way to cluster them based on their similarities, that are the number and the kind of venues.\n\nIn order to do this, a Foursquare API will be used to explore the neighborhoods.\n\nThen, a K-Means algorithm will be used to extract the clusters, afterwards they will be examined to find the best neighborood to open a restaurant in Turin."
        },
        {
            "cell_type": "markdown",
            "metadata": {},
            "source": "## 4. Results"
        },
        {
            "cell_type": "markdown",
            "metadata": {},
            "source": "In Turin there are 590 venues and they can be gathered in 144 categories.\n\nRows of the dataframe have been grouped by neighborhood and by taking the mean of the frequency of occurrence of each category.\n\nThen, it has been shown each neighborhood along with the top 10 most common venues.\n\nNeighborhoods have been clustered in 5 clusters.\n\nExamining Clusters, it is possible to notice that resturants are very popular in Turin.\n\nThere are many categories that contain the word \"Resturant\", such as \"Sushi Restaurant, Asian Restaurant, Piedmontese Resturant\".\n\nThe cluster where Resturants are less popular is the second cluster, therefore I recommend the stakeholders to spend in one of these neighborhoods their money.\n\nIn fact, here there would be less competition. \n"
        },
        {
            "cell_type": "markdown",
            "metadata": {},
            "source": "## 5. Discussion"
        },
        {
            "cell_type": "markdown",
            "metadata": {},
            "source": "As said before, I would open a restaurant in one of the neighboroods clustered in the 2nd cluster.\n\nParticularly, I would choose one of the following neighborhoods:\n\n1. Regio Parco\n\n1. Lingotto\n\nBecause most common venues from 1st to 9th do not contain the word \"Restaurant\", so competition with other restaurants can be avoided."
        },
        {
            "cell_type": "markdown",
            "metadata": {},
            "source": "## 6. Conclusion"
        },
        {
            "cell_type": "markdown",
            "metadata": {},
            "source": "The aim of this analysis was to find the best neighborhood to open a restaurant in Turin.\n\nNeighborhoods have been examined considering categories of venues in each neighborhood.\n\nAfterwards, neighborhoods have been clustered in 5 clusters through k-means algorithm.\n\nFrom cluster analysis, resturants are less popular in  second cluster, \n\nparticularly, in Regio Parco and Lingotto Neighborhoods most common venues from 1st to 9th do not contain the word \"Restaurant\".\n\nTherefore I recommend the stakeholders to spend in one of these neighborhoods their money, because here there would be less competition. \n\nTo choose between these two neighborhoods further elements could be considered, such as how far they are to the center and how many turists' attractions are there,\n\nbut the analysis of these elements is beyond the scope of this excercise, so this analysis is left to future analysis."
        },
        {
            "cell_type": "code",
            "execution_count": null,
            "metadata": {},
            "outputs": [],
            "source": ""
        }
    ],
    "metadata": {
        "kernelspec": {
            "display_name": "Python 3.6",
            "language": "python",
            "name": "python3"
        },
        "language_info": {
            "codemirror_mode": {
                "name": "ipython",
                "version": 3
            },
            "file_extension": ".py",
            "mimetype": "text/x-python",
            "name": "python",
            "nbconvert_exporter": "python",
            "pygments_lexer": "ipython3",
            "version": "3.6.9"
        }
    },
    "nbformat": 4,
    "nbformat_minor": 1
}