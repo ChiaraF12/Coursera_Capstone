{
    "cells": [
        {
            "cell_type": "markdown",
            "metadata": {
                "collapsed": true
            },
            "source": "# Capstone Project - The Battle of Neighborhoods"
        },
        {
            "cell_type": "markdown",
            "metadata": {},
            "source": "## 1. Introduction\n\n*Clearly define a problem or an idea of your choice, where you would need to leverage the Foursquare location data to solve or execute. Remember that data science problems always target an audience and are meant to help a group of stakeholders solve a problem, so make sure that you explicitly describe your audience and why they would care about your problem*"
        },
        {
            "cell_type": "markdown",
            "metadata": {},
            "source": "The aim of this analysis is to find the perfect spot to open a restaurant in Turin, a city in northern Italy.\n\nTurin is the Chief Town of Piemonte Region, and the former Capital City of Italy. It is very important both for industrial context and for tourism. \n\nTherefore, the audience of this study are stakeholders interested in opening a new restaurant in Turin."
        },
        {
            "cell_type": "markdown",
            "metadata": {},
            "source": "## 2. Data Section\n\n*Describe the data that you will be using to solve the problem or execute your idea. Remember that you will need to use the Foursquare location data to solve the problem or execute your idea. You can absolutely use other datasets in combination with the Foursquare location data. So make sure that you provide adequate explanation and discussion, with examples, of the data that you will be using, even if it is only Foursquare location data*"
        },
        {
            "cell_type": "markdown",
            "metadata": {},
            "source": "Data on Boroughs (called \"Municipalities\"), Neighbourhoods and their coordinates is needed. \n\nA list of Turin's Boroughs and Neighbourhoods can be find at the following link: https://it.wikipedia.org/wiki/Circoscrizioni_di_Torino\n\nOn the contrary, coordinates of every neighborhood can be collected from the following site: https://www.gps-coordinates.net/\n\nThese pieces of information have been gathered together and put in a table.\n"
        },
        {
            "cell_type": "code",
            "execution_count": null,
            "metadata": {},
            "outputs": [],
            "source": ""
        }
    ],
    "metadata": {
        "kernelspec": {
            "display_name": "Python 3.6",
            "language": "python",
            "name": "python3"
        },
        "language_info": {
            "codemirror_mode": {
                "name": "ipython",
                "version": 3
            },
            "file_extension": ".py",
            "mimetype": "text/x-python",
            "name": "python",
            "nbconvert_exporter": "python",
            "pygments_lexer": "ipython3",
            "version": "3.6.9"
        }
    },
    "nbformat": 4,
    "nbformat_minor": 1
}